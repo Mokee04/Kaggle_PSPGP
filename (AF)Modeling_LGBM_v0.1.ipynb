{
 "cells": [
  {
   "cell_type": "markdown",
   "id": "2381dab2",
   "metadata": {
    "id": "2381dab2"
   },
   "source": [
    "# Version Memo\n",
    "\n",
    "1. Feature Engineering\n",
    "    - Base Features From ONELUX\n",
    "      <br>https://www.kaggle.com/code/leehomhuang/catboost-baseline-with-lots-features-inference\n",
    "    \n",
    "    - Date Related Features\n",
    "    \n",
    "    - Add Mouse-Tracking Related Features\n",
    "    \n",
    "    - number of Features by Questions \n",
    "      <br>1301, 1931, 2282 + predict_proba for Prior-Questions\n",
    "      \n",
    "      \n",
    "2. Fitting LGBM Single model\n",
    "    - Tuned params\n",
    "    - Best threshold : 0.614\n",
    "    - CV : 0.705 / LB public 0.699,  private 0.701\n",
    "    - output : (AF)LGBM_v0.1.pickle"
   ]
  },
  {
   "cell_type": "markdown",
   "id": "452f10aa",
   "metadata": {},
   "source": [
    "# Files Info."
   ]
  },
  {
   "cell_type": "markdown",
   "id": "06007a09",
   "metadata": {},
   "source": [
    "<br>\n",
    "- init_data.pickle : 용량을 줄이기 위해 raw 데이터를 전처리한 데이터\n",
    "<br><br>\n",
    "- (AF)trainset.pickle : 특징공학을 거친 학습용 데이터셋\n",
    "<br><br>\n",
    "- (AF)LGBM_v0.1.pickle : 학습된 18개 모델, feature 리스트, 결정경계 기준, feature_importance 정보\n",
    "<br><br>"
   ]
  },
  {
   "cell_type": "markdown",
   "id": "46888c11",
   "metadata": {},
   "source": [
    "# Import Libraries"
   ]
  },
  {
   "cell_type": "code",
   "execution_count": 25,
   "id": "95ac04e6",
   "metadata": {
    "id": "95ac04e6"
   },
   "outputs": [],
   "source": [
    "import re\n",
    "import numpy as np\n",
    "import pandas as pd\n",
    "import polars as pl\n",
    "import pickle\n",
    "from tqdm import tqdm\n",
    "\n",
    "import matplotlib.pylab as plt\n",
    "import seaborn as sns \n",
    "\n",
    "from sklearn.model_selection import StratifiedKFold\n",
    "from sklearn.metrics import f1_score\n",
    "\n",
    "from lightgbm import LGBMClassifier\n",
    "\n",
    "import gc\n",
    "_ = gc.collect()\n",
    "\n",
    "import warnings\n",
    "warnings.simplefilter(action='ignore')"
   ]
  },
  {
   "cell_type": "code",
   "execution_count": 26,
   "id": "59e5fcee",
   "metadata": {
    "colab": {
     "base_uri": "https://localhost:8080/"
    },
    "id": "59e5fcee",
    "outputId": "e548fa2b-6252-4d4a-c24e-4a6e6499354f"
   },
   "outputs": [],
   "source": [
    "# Load train_y dataset\n",
    "with open('./data/init_data.pickle', 'rb') as f:\n",
    "    init_data = pickle.load(f)\n",
    "train_y = init_data[\"train_y\"]\n",
    "\n",
    "del init_data\n",
    "_ = gc.collect()\n",
    "\n",
    "# Load the train_x dataset that has been feature engineered.\n",
    "with open(\"./data/(AF)trainset.pickle\", 'rb') as f:\n",
    "    train_dfs = pickle.load(f)"
   ]
  },
  {
   "cell_type": "markdown",
   "id": "f378952d",
   "metadata": {
    "id": "f378952d"
   },
   "source": [
    "# 1. Fit LGBM Model with Tuned HP"
   ]
  },
  {
   "cell_type": "code",
   "execution_count": 27,
   "id": "3bf8da27",
   "metadata": {},
   "outputs": [],
   "source": [
    "# Tuned hyperparameters\n",
    "params = {'objective': 'binary',\n",
    "          'boosting_type': 'gbdt',\n",
    "          'learning_rate': 0.0037464232119058033,\n",
    "          'reg_lambda': 0.003706555353020563,\n",
    "          'reg_alpha': 12,\n",
    "          'max_depth': 8,\n",
    "          'n_estimators': 9999,\n",
    "          'early_stopping_round': 50,\n",
    "          'subsample': 0.8,\n",
    "          'colsample_bytree': 0.5,\n",
    "          'n_jobs': -1,\n",
    "          'metric': 'binary_logloss',\n",
    "          'device_type' : \"gpu\"\n",
    "         }"
   ]
  },
  {
   "cell_type": "markdown",
   "id": "6e19b3e6",
   "metadata": {},
   "source": [
    "### Memo\n",
    "\n",
    "- 5 fold StratifiedKFold 사용\n",
    "\n",
    "- 18문제 모델을 차례로 구축하되, 5 fold 중 최고 Macro f1-score를 기록한 모델을 선택\n",
    "\n",
    "- OOF 사용해서 최적의 결정경계 탐색\n",
    "\n",
    "- 이전 문제에 대한 예측 확률을 feature로 추가\n",
    "  <br>ex) Q4 모델 학습 시, Q1~Q3 예측확률 사용\n",
    "  \n",
    "-> 최종 선택된 Q1~Q18의 features 개수\n",
    "<br>[1301, 1302, 1303, 1934, 1935, 1936, 1937, 1938, 1939, 1940, 1941, 1942, 1943, 2295, 2296, 2297, 2298, 2299]"
   ]
  },
  {
   "cell_type": "code",
   "execution_count": 28,
   "id": "59c0af8e",
   "metadata": {},
   "outputs": [
    {
     "name": "stderr",
     "output_type": "stream",
     "text": [
      "\r",
      "  0%|                                                                                           | 0/18 [00:00<?, ?it/s]"
     ]
    },
    {
     "name": "stdout",
     "output_type": "stream",
     "text": [
      "\n",
      "========================================================================\n",
      "\n",
      "## Question 1\n",
      "\n",
      "Q1 - features NB : 1301\n",
      "\n",
      "  ** Best Scores :  0.6427975736129055 \n",
      "\n",
      "\n",
      "\n"
     ]
    },
    {
     "name": "stderr",
     "output_type": "stream",
     "text": [
      "\r",
      "  6%|████▍                                                                           | 1/18 [06:31<1:50:56, 391.57s/it]"
     ]
    },
    {
     "name": "stdout",
     "output_type": "stream",
     "text": [
      "\n",
      "========================================================================\n",
      "\n",
      "## Question 2\n",
      "\n",
      "Q2 - features NB : 1302\n",
      "\n",
      "  ** Best Scores :  0.494908350305499 \n",
      "\n",
      "\n",
      "\n"
     ]
    },
    {
     "name": "stderr",
     "output_type": "stream",
     "text": [
      "\r",
      " 11%|████████▉                                                                       | 2/18 [09:11<1:08:06, 255.38s/it]"
     ]
    },
    {
     "name": "stdout",
     "output_type": "stream",
     "text": [
      "\n",
      "========================================================================\n",
      "\n",
      "## Question 3\n",
      "\n",
      "Q3 - features NB : 1303\n",
      "\n",
      "  ** Best Scores :  0.4830499177180472 \n",
      "\n",
      "\n",
      "\n"
     ]
    },
    {
     "name": "stderr",
     "output_type": "stream",
     "text": [
      "\r",
      " 17%|█████████████▋                                                                    | 3/18 [11:53<53:07, 212.49s/it]"
     ]
    },
    {
     "name": "stdout",
     "output_type": "stream",
     "text": [
      "\n",
      "========================================================================\n",
      "\n",
      "## Question 4\n",
      "\n",
      "Q4 - features NB : 1934\n",
      "\n",
      "  ** Best Scores :  0.6615375827521428 \n",
      "\n",
      "\n",
      "\n"
     ]
    },
    {
     "name": "stderr",
     "output_type": "stream",
     "text": [
      "\r",
      " 22%|█████████████████▊                                                              | 4/18 [19:54<1:14:22, 318.72s/it]"
     ]
    },
    {
     "name": "stdout",
     "output_type": "stream",
     "text": [
      "\n",
      "========================================================================\n",
      "\n",
      "## Question 5\n",
      "\n",
      "Q5 - features NB : 1935\n",
      "\n",
      "  ** Best Scores :  0.6690572194739763 \n",
      "\n",
      "\n",
      "\n"
     ]
    },
    {
     "name": "stderr",
     "output_type": "stream",
     "text": [
      "\r",
      " 28%|██████████████████████▏                                                         | 5/18 [26:36<1:15:34, 348.82s/it]"
     ]
    },
    {
     "name": "stdout",
     "output_type": "stream",
     "text": [
      "\n",
      "========================================================================\n",
      "\n",
      "## Question 6\n",
      "\n",
      "Q6 - features NB : 1936\n",
      "\n",
      "  ** Best Scores :  0.6131223925325725 \n",
      "\n",
      "\n",
      "\n"
     ]
    },
    {
     "name": "stderr",
     "output_type": "stream",
     "text": [
      "\r",
      " 33%|██████████████████████████▋                                                     | 6/18 [31:33<1:06:13, 331.14s/it]"
     ]
    },
    {
     "name": "stdout",
     "output_type": "stream",
     "text": [
      "\n",
      "========================================================================\n",
      "\n",
      "## Question 7\n",
      "\n",
      "Q7 - features NB : 1937\n",
      "\n",
      "  ** Best Scores :  0.5965197647584307 \n",
      "\n",
      "\n",
      "\n"
     ]
    },
    {
     "name": "stderr",
     "output_type": "stream",
     "text": [
      "\r",
      " 39%|███████████████████████████████▉                                                  | 7/18 [36:38<59:08, 322.62s/it]"
     ]
    },
    {
     "name": "stdout",
     "output_type": "stream",
     "text": [
      "\n",
      "========================================================================\n",
      "\n",
      "## Question 8\n",
      "\n",
      "Q8 - features NB : 1938\n",
      "\n",
      "  ** Best Scores :  0.5349228535203977 \n",
      "\n",
      "\n",
      "\n"
     ]
    },
    {
     "name": "stderr",
     "output_type": "stream",
     "text": [
      "\r",
      " 44%|████████████████████████████████████▍                                             | 8/18 [40:16<48:12, 289.23s/it]"
     ]
    },
    {
     "name": "stdout",
     "output_type": "stream",
     "text": [
      "\n",
      "========================================================================\n",
      "\n",
      "## Question 9\n",
      "\n",
      "Q9 - features NB : 1939\n",
      "\n",
      "  ** Best Scores :  0.6264370032184758 \n",
      "\n",
      "\n",
      "\n"
     ]
    },
    {
     "name": "stderr",
     "output_type": "stream",
     "text": [
      "\r",
      " 50%|█████████████████████████████████████████                                         | 9/18 [45:26<44:22, 295.87s/it]"
     ]
    },
    {
     "name": "stdout",
     "output_type": "stream",
     "text": [
      "\n",
      "========================================================================\n",
      "\n",
      "## Question 10\n",
      "\n",
      "Q10 - features NB : 1940\n",
      "\n",
      "  ** Best Scores :  0.6608355827038552 \n",
      "\n",
      "\n",
      "\n"
     ]
    },
    {
     "name": "stderr",
     "output_type": "stream",
     "text": [
      "\r",
      " 56%|█████████████████████████████████████████████                                    | 10/18 [49:59<38:29, 288.74s/it]"
     ]
    },
    {
     "name": "stdout",
     "output_type": "stream",
     "text": [
      "\n",
      "========================================================================\n",
      "\n",
      "## Question 11\n",
      "\n",
      "Q11 - features NB : 1941\n",
      "\n",
      "  ** Best Scores :  0.5912106203588583 \n",
      "\n",
      "\n",
      "\n"
     ]
    },
    {
     "name": "stderr",
     "output_type": "stream",
     "text": [
      "\r",
      " 61%|█████████████████████████████████████████████████▌                               | 11/18 [54:05<32:08, 275.53s/it]"
     ]
    },
    {
     "name": "stdout",
     "output_type": "stream",
     "text": [
      "\n",
      "========================================================================\n",
      "\n",
      "## Question 12\n",
      "\n",
      "Q12 - features NB : 1942\n",
      "\n",
      "  ** Best Scores :  0.46633790199311026 \n",
      "\n",
      "\n",
      "\n"
     ]
    },
    {
     "name": "stderr",
     "output_type": "stream",
     "text": [
      "\r",
      " 67%|██████████████████████████████████████████████████████                           | 12/18 [57:38<25:39, 256.63s/it]"
     ]
    },
    {
     "name": "stdout",
     "output_type": "stream",
     "text": [
      "\n",
      "========================================================================\n",
      "\n",
      "## Question 13\n",
      "\n",
      "Q13 - features NB : 1943\n",
      "\n",
      "  ** Best Scores :  0.5907555038567944 \n",
      "\n",
      "\n",
      "\n"
     ]
    },
    {
     "name": "stderr",
     "output_type": "stream",
     "text": [
      "\r",
      " 72%|█████████████████████████████████████████████████████████                      | 13/18 [1:03:42<24:05, 289.14s/it]"
     ]
    },
    {
     "name": "stdout",
     "output_type": "stream",
     "text": [
      "\n",
      "========================================================================\n",
      "\n",
      "## Question 14\n",
      "\n",
      "Q14 - features NB : 2295\n",
      "\n",
      "  ** Best Scores :  0.6076320392647319 \n",
      "\n",
      "\n",
      "\n"
     ]
    },
    {
     "name": "stderr",
     "output_type": "stream",
     "text": [
      "\r",
      " 78%|█████████████████████████████████████████████████████████████▍                 | 14/18 [1:09:59<21:02, 315.69s/it]"
     ]
    },
    {
     "name": "stdout",
     "output_type": "stream",
     "text": [
      "\n",
      "========================================================================\n",
      "\n",
      "## Question 15\n",
      "\n",
      "Q15 - features NB : 2296\n",
      "\n",
      "  ** Best Scores :  0.678903173709037 \n",
      "\n",
      "\n",
      "\n"
     ]
    },
    {
     "name": "stderr",
     "output_type": "stream",
     "text": [
      "\r",
      " 83%|█████████████████████████████████████████████████████████████████▊             | 15/18 [1:16:47<17:10, 343.57s/it]"
     ]
    },
    {
     "name": "stdout",
     "output_type": "stream",
     "text": [
      "\n",
      "========================================================================\n",
      "\n",
      "## Question 16\n",
      "\n",
      "Q16 - features NB : 2297\n",
      "\n",
      "  ** Best Scores :  0.4241720640351949 \n",
      "\n",
      "\n",
      "\n"
     ]
    },
    {
     "name": "stderr",
     "output_type": "stream",
     "text": [
      "\r",
      " 89%|██████████████████████████████████████████████████████████████████████▏        | 16/18 [1:21:57<11:06, 333.48s/it]"
     ]
    },
    {
     "name": "stdout",
     "output_type": "stream",
     "text": [
      "\n",
      "========================================================================\n",
      "\n",
      "## Question 17\n",
      "\n",
      "Q17 - features NB : 2298\n",
      "\n",
      "  ** Best Scores :  0.42937506229442846 \n",
      "\n",
      "\n",
      "\n"
     ]
    },
    {
     "name": "stderr",
     "output_type": "stream",
     "text": [
      "\r",
      " 94%|██████████████████████████████████████████████████████████████████████████▌    | 17/18 [1:26:44<05:19, 319.34s/it]"
     ]
    },
    {
     "name": "stdout",
     "output_type": "stream",
     "text": [
      "\n",
      "========================================================================\n",
      "\n",
      "## Question 18\n",
      "\n",
      "Q18 - features NB : 2299\n",
      "\n",
      "  ** Best Scores :  0.49179946580234685 \n",
      "\n",
      "\n",
      "\n"
     ]
    },
    {
     "name": "stderr",
     "output_type": "stream",
     "text": [
      "100%|███████████████████████████████████████████████████████████████████████████████| 18/18 [1:31:32<00:00, 305.14s/it]"
     ]
    },
    {
     "name": "stdout",
     "output_type": "stream",
     "text": [
      "\n",
      "========================================================================\n",
      "\n",
      "\n",
      "\n",
      "Q1 Feature Importances : \n",
      "                                                 feature  importance\n",
      "962           col_etd_fil_fq_val_chap1_finale_c_agg_max         950\n",
      "458     col_etd_fil_rf_val_tunic.capitol_0.hall_agg_sum         912\n",
      "240           col_etd_fil_fq_val_chap1_finale_c_agg_sum         589\n",
      "29      col_etd_fil_rf_val_tunic.capitol_0.hall_agg_max         413\n",
      "394                        col_etd_fil_lv_val_4_agg_sum         364\n",
      "493                         col_md_fil_lv_val_3_agg_max         340\n",
      "1032                   col_md_fil_fq_val_plaque_agg_std         312\n",
      "343                     col_md_fil_nm_val_close_agg_std         311\n",
      "1074                  col_etd_fil_fq_val_report_agg_max         299\n",
      "995        col_md_fil_fq_val_retirement_letter_agg_mean         290\n",
      "468      col_md_fil_rf_val_tunic.capitol_0.hall_agg_std         290\n",
      "53                          col_md_fil_lv_val_3_agg_sum         279\n",
      "1127               col_md_fil_fq_val_tobasement_agg_max         275\n",
      "880   col_md_fil_tfq_val_tunic.historicalsociety.col...         256\n",
      "1123                 col_etd_filc_txt_val_it_agg_median         252\n",
      "130      col_md_fil_rf_val_tunic.capitol_0.hall_agg_sum         250\n",
      "41                  col_etd_filc_txt_val_you_agg_median         241\n",
      "279               col_etd_fil_en_val_checkpoint_agg_max         236\n",
      "485                                  col_rcy_agg_median         236\n",
      "171                  col_etd_filc_txt_val_find_agg_mean         226\n",
      "\n",
      "\n",
      "Q2 Feature Importances : \n",
      "                                                 feature  importance\n",
      "1301                                                 Q1         632\n",
      "551                     col_md_fil_fq_val_tunic_agg_std         214\n",
      "730             col_etd_fil_en_val_object_hover_agg_std         202\n",
      "962           col_etd_fil_fq_val_chap1_finale_c_agg_max         198\n",
      "934                col_md_fil_fq_val_groupconvo_agg_sum         197\n",
      "864   col_etd_fil_tfq_val_tunic.kohlcenter.halloffam...         179\n",
      "482               col_etd_fil_fq_val_tobasement_agg_sum         171\n",
      "1032                   col_md_fil_fq_val_plaque_agg_std         167\n",
      "1012         col_etd_fil_en_val_object_hover_agg_median         166\n",
      "468      col_md_fil_rf_val_tunic.capitol_0.hall_agg_std         164\n",
      "801     col_md_fil_rf_val_tunic.capitol_0.hall_agg_mean         160\n",
      "882        col_etd_fil_fq_val_retirement_letter_agg_std         155\n",
      "898                     col_md_fil_nm_val_close_agg_max         150\n",
      "394                        col_etd_fil_lv_val_4_agg_sum         148\n",
      "1181                 col_md_fil_fq_val_notebook_agg_std         144\n",
      "638               col_etd_fil_en_val_map_hover_agg_mean         144\n",
      "832                    col_md_fil_fq_val_report_agg_sum         143\n",
      "595                   col_md_fil_fq_val_plaque_agg_mean         141\n",
      "995        col_md_fil_fq_val_retirement_letter_agg_mean         140\n",
      "487   col_etd_fil_tfq_val_tunic.kohlcenter.halloffam...         138\n",
      "\n",
      "\n",
      "Q3 Feature Importances : \n",
      "                                                 feature  importance\n",
      "1301                                                 Q1         992\n",
      "1302                                                 Q2         448\n",
      "514   col_etd_fil_tfq_val_tunic.kohlcenter.halloffam...         194\n",
      "343                     col_md_fil_nm_val_close_agg_std         189\n",
      "874          col_vc_fil_fq_val_plaque.face.date_agg_std         180\n",
      "29      col_etd_fil_rf_val_tunic.capitol_0.hall_agg_max         155\n",
      "321                    col_etd_fil_nm_val_basic_agg_max         146\n",
      "6             col_md_fil_fq_val_tunic.hub.slip_agg_mean         146\n",
      "223     col_etd_fil_fq_val_retirement_letter_agg_median         143\n",
      "183            col_md_fil_fq_val_tunic.hub.slip_agg_max         142\n",
      "458     col_etd_fil_rf_val_tunic.capitol_0.hall_agg_sum         137\n",
      "1012         col_etd_fil_en_val_object_hover_agg_median         133\n",
      "297              col_md_fil_en_val_object_click_agg_std         130\n",
      "918                                      col_hd_agg_max         127\n",
      "5                  col_md_fil_fq_val_tobasement_agg_sum         124\n",
      "398            col_md_fil_en_val_notebook_click_agg_std         121\n",
      "811   col_etd_fil_rf_val_tunic.kohlcenter.halloffame...         121\n",
      "1142  col_md_fil_tfq_val_tunic.kohlcenter.halloffame...         121\n",
      "667                  col_vc_fil_fq_val_togrampa_agg_std         120\n",
      "330                                  col_rcx_agg_median         119\n",
      "\n",
      "\n",
      "Q4 Feature Importances : \n",
      "                                                 feature  importance\n",
      "1931                                                 Q1         744\n",
      "1574                 col_etd_filc_txt_val_to_agg_median         378\n",
      "1932                                                 Q2         326\n",
      "504   col_etd_fil_tfq_val_tunic.historicalsociety.fr...         304\n",
      "1933                                                 Q3         276\n",
      "198                   col_vc_fil_fq_val_magnify_agg_std         273\n",
      "1309                                    col_hd_agg_mean         247\n",
      "1529  col_etd_fil_tfq_val_tunic.capitol_1.hall.boss....         246\n",
      "673                       col_etd_fil_lv_val_12_agg_sum         229\n",
      "955   col_etd_fil_fq_val_journals.pic_1.next_agg_median         225\n",
      "993           col_md_fil_en_val_notebook_click_agg_mean         225\n",
      "262                col_md_fil_en_val_map_click_agg_mean         223\n",
      "1474                     col_lv_fil_lv_val_11_agg_count         220\n",
      "1590                        col_md_fil_lv_val_6_agg_std         199\n",
      "1028                 col_etd_filc_txt_val_Oh_agg_median         193\n",
      "1112                    reader_bingo_indexCount_agg_rep         192\n",
      "1317          col_etd_fil_fq_val_chap2_finale_c_agg_std         189\n",
      "1648            col_etd_fil_en_val_map_hover_agg_median         189\n",
      "1159  col_md_fil_rf_val_tunic.historicalsociety.clos...         186\n",
      "420                 col_etd_filc_txt_val_Wells_agg_mean         185\n",
      "\n",
      "\n",
      "Q5 Feature Importances : \n",
      "                                                 feature  importance\n",
      "1934                                                 Q4        1483\n",
      "1931                                                 Q1         400\n",
      "79            col_etd_fil_en_val_notebook_click_agg_std         385\n",
      "1679              col_etd_filc_txt_val_Wells_agg_median         381\n",
      "1419                    col_etd_filc_txt_val_Jo_agg_std         249\n",
      "1472  col_etd_fil_tfq_val_tunic.historicalsociety.st...         247\n",
      "821   col_etd_fil_tfq_val_tunic.humanecology.frontde...         242\n",
      "298   col_vc_fil_fq_val_businesscards.card_0.next_ag...         237\n",
      "1594  col_etd_fil_tfq_val_tunic.humanecology.frontde...         237\n",
      "549   col_md_fil_fq_val_businesscards.card_1.next_ag...         224\n",
      "476              col_md_fil_en_val_object_click_agg_std         218\n",
      "857    col_etd_fil_fq_val_reader.paper1.next_agg_median         216\n",
      "1131      col_etd_fil_fq_val_logbook.page.bingo_agg_sum         207\n",
      "740          col_etd_fil_en_val_notebook_click_agg_mean         204\n",
      "1283  col_etd_fil_fq_val_businesscards.card_0.next_a...         199\n",
      "1474                     col_lv_fil_lv_val_11_agg_count         196\n",
      "1376                  col_etd_filc_txt_val_this_agg_std         183\n",
      "629                    col_md_fil_fq_val_worker_agg_max         181\n",
      "31                         col_md_fil_lv_val_12_agg_std         178\n",
      "65                     col_etd_fil_nm_val_close_agg_std         173\n",
      "\n",
      "\n",
      "Q6 Feature Importances : \n",
      "                                                 feature  importance\n",
      "1935                                                 Q5        1488\n",
      "1934                                                 Q4         504\n",
      "1931                                                 Q1         206\n",
      "1429           col_etd_fil_fq_val_businesscards_agg_max         198\n",
      "1932                                                 Q2         175\n",
      "796   col_md_fil_rf_val_tunic.historicalsociety.entr...         164\n",
      "932   col_md_fil_fq_val_businesscards.card_0.next_ag...         159\n",
      "1093      col_etd_fil_fq_val_logbook.page.bingo_agg_max         150\n",
      "1309                                    col_hd_agg_mean         147\n",
      "857    col_etd_fil_fq_val_reader.paper1.next_agg_median         136\n",
      "1474                     col_lv_fil_lv_val_11_agg_count         133\n",
      "333      col_md_fil_fq_val_journals.pic_1.next_agg_mean         125\n",
      "1705   col_etd_fil_fq_val_reader.paper0.next_agg_median         123\n",
      "892       col_etd_fil_fq_val_logbook.page.bingo_agg_std         119\n",
      "1210            col_etd_fil_en_val_object_hover_agg_sum         114\n",
      "1714              col_vc_fil_fq_val_tobasement_agg_mean         114\n",
      "1897  col_idx_fil_fq_val_businesscards.card_bingo.bi...         107\n",
      "1164  col_fq_fil_fq_val_businesscards.card_bingo.bin...         102\n",
      "1668  col_etd_fil_tfq_val_tunic.historicalsociety.cl...         100\n",
      "1112                    reader_bingo_indexCount_agg_rep         100\n",
      "\n",
      "\n",
      "Q7 Feature Importances : \n",
      "                                                 feature  importance\n",
      "1936                                                 Q6        1531\n",
      "1935                                                 Q5         458\n",
      "1934                                                 Q4         372\n",
      "1662                    col_vc_fil_nm_val_basic_agg_std         227\n",
      "817   col_etd_fil_fq_val_businesscards.card_1.next_a...         167\n",
      "1083     col_etd_fil_fq_val_journals.hub.topics_agg_max         166\n",
      "549   col_md_fil_fq_val_businesscards.card_1.next_ag...         159\n",
      "857    col_etd_fil_fq_val_reader.paper1.next_agg_median         158\n",
      "1188      col_etd_fil_fq_val_reader.paper2.next_agg_max         144\n",
      "1766  col_md_fil_tfq_val_tunic.humanecology.frontdes...         132\n",
      "1748  col_etd_fil_fq_val_businesscards.card_1.next_a...         132\n",
      "653                   col_vc_filc_txt_val_found_agg_max         129\n",
      "1007            col_md_fil_fq_val_businesscards_agg_std         124\n",
      "585                col_etd_fil_en_val_map_hover_agg_sum         120\n",
      "863            col_etd_fil_en_val_object_hover_agg_mean         119\n",
      "532   col_md_fil_tfq_val_tunic.library.frontdesk.wor...         117\n",
      "1651     col_etd_fil_fq_val_reader.paper2.bingo_agg_std         112\n",
      "1185  col_md_fil_fq_val_businesscards.card_bingo.nex...         112\n",
      "1347  col_vc_fil_tfq_val_tunic.drycleaner.frontdesk....         111\n",
      "1410       col_etd_fil_fq_val_tunic.drycleaner_agg_mean         110\n",
      "\n",
      "\n",
      "Q8 Feature Importances : \n",
      "                                                 feature  importance\n",
      "1935                                                 Q5         650\n",
      "1936                                                 Q6         354\n",
      "1934                                                 Q4         299\n",
      "1937                                                 Q7         218\n",
      "1218                 col_md_fil_fq_val_journals_agg_std         181\n",
      "546            col_en_fil_en_val_object_click_agg_count         121\n",
      "427   col_etd_fil_rf_val_tunic.library.microfiche_ag...         120\n",
      "1278          col_etd_fil_fq_val_tofrontdesk_agg_median         103\n",
      "1853          col_idx_fil_en_val_object_click_agg_count          88\n",
      "668   col_etd_fil_rf_val_tunic.historicalsociety.col...          84\n",
      "1122                  col_md_fil_fq_val_logbook_agg_std          81\n",
      "375   col_rf_fil_rf_val_tunic.drycleaner.frontdesk_a...          78\n",
      "640   col_etd_fil_fq_val_businesscards.card_bingo.ne...          78\n",
      "819                   col_md_fil_fq_val_toentry_agg_max          78\n",
      "673                       col_etd_fil_lv_val_12_agg_sum          78\n",
      "751                    col_md_fil_fq_val_gramps_agg_max          74\n",
      "1619        col_etd_fil_fq_val_trigger_scarf_agg_median          74\n",
      "1529  col_etd_fil_tfq_val_tunic.capitol_1.hall.boss....          74\n",
      "1617  col_etd_fil_tfq_val_tunic.historicalsociety.st...          74\n",
      "1526                 col_etd_fil_fq_val_toentry_agg_std          72\n",
      "\n",
      "\n",
      "Q9 Feature Importances : \n",
      "                                                 feature  importance\n",
      "1936                                                 Q6        1223\n",
      "1938                                                 Q8         867\n",
      "1937                                                 Q7         631\n",
      "1935                                                 Q5         431\n",
      "1782               col_etd_fil_en_val_map_click_agg_sum         193\n",
      "774           col_md_fil_fq_val_trigger_coffee_agg_mean         155\n",
      "1575  col_md_fil_fq_val_businesscards.card_0.next_ag...         149\n",
      "1436               col_md_fil_fq_val_tobasement_agg_std         146\n",
      "7                  col_md_fil_fq_val_tobasement_agg_sum         125\n",
      "1931                                                 Q1         116\n",
      "1628  col_vc_fil_tfq_val_tunic.historicalsociety.clo...         116\n",
      "587                     col_md_fil_nm_val_close_agg_sum         113\n",
      "1705   col_etd_fil_fq_val_reader.paper0.next_agg_median         113\n",
      "1022                 col_vc_fil_fq_val_tostacks_agg_std         110\n",
      "59    col_etd_fil_tfq_val_tunic.library.frontdesk.wo...         108\n",
      "1416                                    col_rcy_agg_std         106\n",
      "961   col_md_fil_rf_val_tunic.library.frontdesk_agg_sum         106\n",
      "1593                col_md_fil_en_val_map_click_agg_max         105\n",
      "1516           col_vc_fil_fq_val_trigger_coffee_agg_max         104\n",
      "1451           col_md_fil_fq_val_tocloset_dirty_agg_sum         103\n",
      "\n",
      "\n",
      "Q10 Feature Importances : \n",
      "                                                 feature  importance\n",
      "1939                                                 Q9        1050\n",
      "1935                                                 Q5         418\n",
      "1938                                                 Q8         364\n",
      "1936                                                 Q6         359\n",
      "1937                                                 Q7         346\n",
      "1680                col_etd_fil_fq_val_journals_agg_sum         188\n",
      "1727  col_etd_fil_rf_val_tunic.historicalsociety.sta...         122\n",
      "1670                       col_md_fil_lv_val_11_agg_sum         112\n",
      "1931                                                 Q1         103\n",
      "23                   col_md_fil_fq_val_tostacks_agg_std         102\n",
      "486            col_etd_fil_fq_val_tunic.library_agg_sum          97\n",
      "626                       col_etd_fil_lv_val_10_agg_max          96\n",
      "222             col_etd_fil_en_val_object_click_agg_sum          91\n",
      "1822  col_md_fil_tfq_val_tunic.library.frontdesk.wor...          86\n",
      "1154  col_etd_fil_tfq_val_tunic.historicalsociety.cl...          84\n",
      "1309                                    col_hd_agg_mean          82\n",
      "333      col_md_fil_fq_val_journals.pic_1.next_agg_mean          79\n",
      "316               col_md_fil_fq_val_tofrontdesk_agg_std          78\n",
      "42    col_etd_fil_fq_val_businesscards.card_0.next_a...          78\n",
      "283          col_etd_fil_fq_val_chap2_finale_c_agg_mean          77\n",
      "\n",
      "\n",
      "Q11 Feature Importances : \n",
      "                                                 feature  importance\n",
      "1940                                                Q10         857\n",
      "1937                                                 Q7         339\n",
      "1939                                                 Q9         319\n",
      "1936                                                 Q6         303\n",
      "773                                      col_hd_agg_min         195\n",
      "1276                  col_vc_fil_fq_val_magnify_agg_max         122\n",
      "1648            col_etd_fil_en_val_map_hover_agg_median         118\n",
      "458                col_md_fil_fq_val_wellsbadge_agg_std         115\n",
      "1935                                                 Q5         111\n",
      "1263       col_md_fil_fq_val_reader.paper0.next_agg_sum         111\n",
      "1541                  col_etd_fil_fq_val_reader_agg_sum         106\n",
      "940               col_vc_fil_fq_val_wellsbadge_agg_mean          95\n",
      "1703         col_etd_fil_fq_val_tocloset_dirty_agg_mean          89\n",
      "289   col_vc_fil_tfq_val_tunic.historicalsociety.clo...          88\n",
      "259                 col_etd_fil_fq_val_tostacks_agg_sum          83\n",
      "444                        col_etd_fil_lv_val_5_agg_sum          81\n",
      "274       col_md_fil_fq_val_journals.pic_2.next_agg_sum          80\n",
      "1519                  col_md_fil_fq_val_magnify_agg_std          77\n",
      "1045           col_vc_fil_fq_val_trigger_coffee_agg_std          76\n",
      "1931                                                 Q1          75\n",
      "\n",
      "\n",
      "Q12 Feature Importances : \n",
      "                                                 feature  importance\n",
      "1941                                                Q11         639\n",
      "1937                                                 Q7         417\n",
      "1940                                                Q10         268\n",
      "1939                                                 Q9         228\n",
      "1936                                                 Q6         166\n",
      "60    col_rf_fil_rf_val_tunic.historicalsociety.clos...         113\n",
      "374   col_md_fil_tfq_val_tunic.library.microfiche.re...         111\n",
      "799                 col_md_fil_en_val_map_click_agg_std         102\n",
      "1592               col_vc_fil_fq_val_tobasement_agg_std          90\n",
      "890   col_vc_fil_rf_val_tunic.historicalsociety.entr...          88\n",
      "3                      col_md_fil_fq_val_reader_agg_max          80\n",
      "1179  col_md_fil_rf_val_tunic.historicalsociety.base...          75\n",
      "1193  col_md_fil_rf_val_tunic.historicalsociety.stac...          73\n",
      "1714              col_vc_fil_fq_val_tobasement_agg_mean          72\n",
      "1326          col_md_fil_fq_val_chap2_finale_c_agg_mean          71\n",
      "1443                     col_vc_filc_txt_val_it_agg_std          68\n",
      "297         col_md_fil_fq_val_tunic.drycleaner_agg_mean          68\n",
      "372                         col_vc_fil_lv_val_9_agg_max          64\n",
      "1489        col_etd_fil_fq_val_what_happened_agg_median          64\n",
      "741               col_etd_fil_fq_val_tobasement_agg_sum          64\n",
      "\n",
      "\n",
      "Q13 Feature Importances : \n",
      "                                                feature  importance\n",
      "1939                                                Q9         770\n",
      "1938                                                Q8         526\n",
      "508                    journals_bingo_duration_agg_rep         272\n",
      "1940                                               Q10         269\n",
      "512   col_etd_fil_en_val_notification_click_agg_median         257\n",
      "1941                                               Q11         246\n",
      "673                      col_etd_fil_lv_val_12_agg_sum         242\n",
      "1024                  col_etd_fil_nm_val_close_agg_max         215\n",
      "114      col_etd_fil_fq_val_reader.paper0.next_agg_sum         211\n",
      "1935                                                Q5         210\n",
      "1937                                                Q7         197\n",
      "1920                                             month         185\n",
      "1131     col_etd_fil_fq_val_logbook.page.bingo_agg_sum         184\n",
      "930                  col_etd_fil_nm_val_close_agg_mean         170\n",
      "79           col_etd_fil_en_val_notebook_click_agg_std         167\n",
      "1423     col_etd_fil_fq_val_reader.paper1.next_agg_max         166\n",
      "818                    col_md_fil_fq_val_tomap_agg_std         160\n",
      "262               col_md_fil_en_val_map_click_agg_mean         152\n",
      "1932                                                Q2         151\n",
      "546           col_en_fil_en_val_object_click_agg_count         151\n",
      "\n",
      "\n",
      "Q14 Feature Importances : \n",
      "                                                 feature  importance\n",
      "2290                                                 Q9         948\n",
      "2293                                                Q12         490\n",
      "2084                     col_lv_fil_lv_val_20_agg_count         267\n",
      "2291                                                Q10         174\n",
      "12    col_md_fil_tfq_val_tunic.historicalsociety.fro...         136\n",
      "1640       col_etd_fil_fq_val_tunic.drycleaner_agg_mean         125\n",
      "270   col_etd_fil_fq_val_journals_flag.pic_1.next_ag...         118\n",
      "2292                                                Q11         113\n",
      "230                    col_md_fil_fq_val_tracks_agg_max         111\n",
      "2287                                                 Q6         111\n",
      "380              col_md_fil_fq_val_tofrontdesk_agg_mean         111\n",
      "1312                  col_etd_fil_fq_val_tracks_agg_max         108\n",
      "406                 col_md_fil_fq_val_directory_agg_sum         106\n",
      "1946  col_etd_fil_fq_val_reader_flag.paper1.next_agg...         104\n",
      "1328           col_vc_fil_en_val_notebook_click_agg_std         102\n",
      "1877                  col_etd_fil_fq_val_tracks_agg_sum         101\n",
      "2037  col_etd_fil_fq_val_journals_flag.hub.topics_ol...          98\n",
      "1749                  col_idx_filc_txt_val_to_agg_count          95\n",
      "96    col_etd_fil_fq_val_journals_flag.hub.topics_ol...          93\n",
      "831   col_etd_fil_tfq_val_tunic.historicalsociety.en...          92\n",
      "\n",
      "\n",
      "Q15 Feature Importances : \n",
      "                                                 feature  importance\n",
      "2295                                                Q14        1264\n",
      "2288                                                 Q7         385\n",
      "2290                                                 Q9         285\n",
      "2293                                                Q12         229\n",
      "2060  col_etd_fil_tfq_val_tunic.flaghouse.entry.colo...         228\n",
      "1552  col_etd_fil_tfq_val_tunic.flaghouse.entry.colo...         197\n",
      "2047  col_etd_fil_tfq_val_tunic.historicalsociety.en...         197\n",
      "269   col_etd_fil_tfq_val_tunic.historicalsociety.en...         191\n",
      "1107                       col_md_fil_lv_val_20_agg_sum         182\n",
      "26                 col_md_fil_fq_val_directory_agg_mean         177\n",
      "860                     col_md_fil_fq_val_tomap_agg_sum         145\n",
      "1524                       col_vc_fil_lv_val_20_agg_max         139\n",
      "634   col_etd_fil_tfq_val_tunic.historicalsociety.en...         136\n",
      "406                 col_md_fil_fq_val_directory_agg_sum         133\n",
      "813                  col_vc_filc_txt_val_found_agg_mean         129\n",
      "387   col_etd_fil_tfq_val_tunic.flaghouse.entry.colo...         129\n",
      "2086        col_md_fil_en_val_observation_click_agg_std         125\n",
      "1293     col_md_fil_rf_val_tunic.capitol_2.hall_agg_std         124\n",
      "442       col_etd_fil_fq_val_tunic.humanecology_agg_std         120\n",
      "1252  col_etd_fil_tfq_val_tunic.historicalsociety.co...         117\n",
      "\n",
      "\n",
      "Q16 Feature Importances : \n",
      "                                                 feature  importance\n",
      "2292                                                Q11         273\n",
      "2291                                                Q10         163\n",
      "2294                                                Q13         106\n",
      "1589  col_etd_fil_tfq_val_tunic.historicalsociety.en...         104\n",
      "1137               col_etd_fil_fq_val_colorbook_agg_max          97\n",
      "1276  col_etd_fil_tfq_val_tunic.library.frontdesk.wo...          97\n",
      "2288                                                 Q7          85\n",
      "641                col_etd_fil_en_val_map_hover_agg_sum          82\n",
      "2293                                                Q12          81\n",
      "1665               col_etd_fil_fq_val_colorbook_agg_std          78\n",
      "298   col_etd_fil_tfq_val_tunic.historicalsociety.fr...          76\n",
      "1621                col_vc_fil_fq_val_directory_agg_max          74\n",
      "1432  col_etd_fil_fq_val_journals_flag.pic_2.bingo_a...          74\n",
      "1229                    col_etd_filc_txt_val_to_agg_max          69\n",
      "306                col_md_fil_fq_val_flag_girl_agg_mean          67\n",
      "310                col_md_fil_fq_val_remove_cup_agg_std          62\n",
      "1243             col_md_fil_en_val_object_click_agg_sum          61\n",
      "586               col_md_fil_fq_val_reader_flag_agg_sum          58\n",
      "2105                      col_md_fil_lv_val_16_agg_mean          57\n",
      "549   col_etd_fil_tfq_val_tunic.flaghouse.entry.colo...          57\n",
      "\n",
      "\n",
      "Q17 Feature Importances : \n",
      "                                                 feature  importance\n",
      "2297                                                Q16         238\n",
      "96    col_etd_fil_fq_val_journals_flag.hub.topics_ol...         229\n",
      "2294                                                Q13         212\n",
      "891                        col_md_fil_lv_val_22_agg_sum         193\n",
      "2288                                                 Q7         186\n",
      "321   col_etd_fil_fq_val_journals_flag.pic_0.next_ag...         177\n",
      "2284                                                 Q3         162\n",
      "2292                                                Q11         156\n",
      "271                col_md_fil_en_val_map_click_agg_mean         152\n",
      "304           col_etd_fil_fq_val_tunic.wildlife_agg_std         149\n",
      "270   col_etd_fil_fq_val_journals_flag.pic_1.next_ag...         137\n",
      "1965  col_etd_fil_fq_val_journals_flag.pic_0.next_ag...         126\n",
      "129   col_etd_fil_tfq_val_tunic.historicalsociety.ca...         124\n",
      "1378            col_etd_fil_en_val_object_hover_agg_sum         124\n",
      "668                       col_etd_fil_lv_val_19_agg_sum         118\n",
      "2009  col_etd_fil_rf_val_tunic.historicalsociety.sta...         107\n",
      "993   col_etd_fil_fq_val_journals_flag.pic_1.next_ag...         102\n",
      "1465  col_etd_fil_tfq_val_tunic.historicalsociety.st...          99\n",
      "806   col_etd_fil_tfq_val_tunic.historicalsociety.ca...          97\n",
      "1426  col_etd_fil_fq_val_journals_flag.pic_1.bingo_a...          97\n",
      "\n",
      "\n",
      "Q18 Feature Importances : \n",
      "                                                 feature  importance\n",
      "2298                                                Q17         911\n",
      "2296                                                Q15         530\n",
      "2295                                                Q14         270\n",
      "266                 col_md_fil_fq_val_flag_girl_agg_max         144\n",
      "1202  col_etd_fil_fq_val_tunic.historicalsociety_agg...         126\n",
      "2293                                                Q12         118\n",
      "2288                                                 Q7         117\n",
      "969                     col_etd_filc_txt_val_it_agg_std         111\n",
      "442       col_etd_fil_fq_val_tunic.humanecology_agg_std         109\n",
      "1466  col_etd_fil_fq_val_journals_flag.pic_0.next_ag...         102\n",
      "2294                                                Q13         102\n",
      "320   col_etd_fil_tfq_val_tunic.historicalsociety.en...          93\n",
      "101   col_etd_fil_tfq_val_tunic.historicalsociety.en...          89\n",
      "1498                                    col_hd_agg_mean          87\n",
      "725          col_etd_fil_en_val_object_click_agg_median          85\n",
      "2143                   col_md_filc_txt_val_flag_agg_sum          82\n",
      "1800             col_md_fil_fq_val_reader_flag_agg_mean          79\n",
      "2154  col_md_fil_tfq_val_tunic.historicalsociety.cag...          78\n",
      "440                    col_etd_fil_nm_val_close_agg_sum          78\n",
      "1461       col_etd_fil_fq_val_tunic.kohlcenter_agg_mean          78\n",
      "CPU times: total: 16h 16min 29s\n",
      "Wall time: 1h 31min 32s\n"
     ]
    },
    {
     "name": "stderr",
     "output_type": "stream",
     "text": [
      "\n"
     ]
    }
   ],
   "source": [
    "%%time\n",
    "best_models = {}\n",
    "best_scores = {}\n",
    "# Pred_proba values of prior-Questions\n",
    "correctyn_df = {}\n",
    "fi_dfs = {}\n",
    "\n",
    "# Set 'out-of-fold' dataframe \n",
    "all_index = train_dfs[0].index.unique()\n",
    "oof = pd.DataFrame(data = np.full([len(all_index), 18], 3), index = all_index)\n",
    "\n",
    "\"\"\" Apply stratified k-fold method with 5 folds \"\"\"\n",
    "k_fold = 5\n",
    "skf = StratifiedKFold(n_splits= 5, shuffle= True, random_state= 52521)\n",
    "\n",
    "for q in tqdm(range(1, 19)) :\n",
    "    print(\"\\n========================================================================\\n\")\n",
    "    print(f'## Question {q}')\n",
    "    \n",
    "    best_models[f\"Q{q}\"] = None\n",
    "    best_scores[f\"Q{q}\"] = 0\n",
    "    \n",
    "    idx = 0 if q <= 3 else 1 if q <= 13 else 2\n",
    "    train_f = train_dfs[idx]\n",
    "    train_t = train_y.loc[train_y.q==q][[\"correct\"]]\n",
    "    \n",
    "    print(f\"\\nQ{q} - features NB :\", len(train_f.columns))\n",
    "    \n",
    "    for fold, (train_index, valid_index) in enumerate(skf.split(train_f, train_t)) :\n",
    "        \n",
    "        tr_users = train_f.iloc[train_index].index.values\n",
    "        val_users = train_f.iloc[valid_index].index.values\n",
    "        \n",
    "        x_tr, x_val = train_f.loc[tr_users], train_f.loc[val_users]\n",
    "        y_tr, y_val = train_t.loc[tr_users], train_t.loc[val_users]\n",
    "        \n",
    "        model = LGBMClassifier(**params)\n",
    "        model.fit(x_tr, y_tr, eval_set = [(x_val, y_val)], verbose = 0)\n",
    "\n",
    "        y_pred = model.predict(x_val).astype(int)\n",
    "        oof.loc[val_users, q-1] = model.predict_proba(x_val.astype(\"float32\"))[:,1]\n",
    "        score = f1_score(y_val, y_pred, average = 'macro')\n",
    "\n",
    "        if score > best_scores[f\"Q{q}\"] : \n",
    "            best_models[f\"Q{q}\"] = model\n",
    "            best_scores[f\"Q{q}\"] = score\n",
    "    \n",
    "    print(\"\\n  ** Best Scores : \", best_scores[f\"Q{q}\"], \"\\n\\n\")\n",
    "    print()\n",
    "    \n",
    "    correctyn_df[f\"Q{q}\"] = best_models[f\"Q{q}\"].predict_proba(train_f.astype(\"float32\"))[:, 1]\n",
    "    train_dfs[idx][f\"Q{q}\"] = correctyn_df[f\"Q{q}\"].tolist()\n",
    "\n",
    "    if q in [3, 13] :\n",
    "        for ii in range(1, q+1) :\n",
    "            train_dfs[idx+1][f\"Q{ii}\"] = correctyn_df[f\"Q{ii}\"].tolist()\n",
    "\n",
    "print(\"\\n========================================================================\\n\")\n",
    "\n",
    "### Show feature_importances\n",
    "for qq in range(1, 19) :\n",
    "    fi = best_models[f\"Q{qq}\"].feature_importances_\n",
    "    fn = best_models[f\"Q{qq}\"].feature_name_\n",
    "    fidf = pd.DataFrame({\"feature\": fn, \"importance\" : fi})\n",
    "    fidf.sort_values(by = 'importance', ascending = False, inplace = True)\n",
    "    fi_dfs[f\"Q{qq}\"] = fidf\n",
    "    print(f\"\\n\\nQ{qq} Feature Importances : \\n\", fidf.head(20))"
   ]
  },
  {
   "cell_type": "code",
   "execution_count": 29,
   "id": "6cbc9daa",
   "metadata": {},
   "outputs": [
    {
     "name": "stdout",
     "output_type": "stream",
     "text": [
      "NB of Features :  [1301, 1302, 1303, 1934, 1935, 1936, 1937, 1938, 1939, 1940, 1941, 1942, 1943, 2295, 2296, 2297, 2298, 2299]\n"
     ]
    }
   ],
   "source": [
    "# feature_true : Used features for fitting by questions\n",
    "feature_true = [best_models[f\"Q{q}\"].feature_name_ for q in range(1, 19)]\n",
    "print(\"NB of Features : \", [len(feature_true[q-1]) for q in range(1, 19)])"
   ]
  },
  {
   "cell_type": "code",
   "execution_count": 30,
   "id": "0e8c42c2",
   "metadata": {
    "colab": {
     "base_uri": "https://localhost:8080/"
    },
    "id": "0e8c42c2",
    "outputId": "eb615c56-4070-45a6-90f0-ba16e9b280e5"
   },
   "outputs": [
    {
     "name": "stdout",
     "output_type": "stream",
     "text": [
      "0.40, 0.41, 0.42, 0.43, 0.44, 0.45, 0.46, 0.47, 0.48, 0.49, 0.50, 0.51, 0.52, 0.53, 0.54, 0.55, 0.56, 0.57, 0.58, 0.59, 0.60, 0.61, 0.62, 0.63, 0.64, 0.65, 0.66, 0.67, 0.68, 0.69, 0.70, 0.71, 0.72, 0.73, 0.74, 0.75, 0.76, 0.77, 0.78, 0.79, 0.80, "
     ]
    }
   ],
   "source": [
    "\"\"\" Calculate f1 Score with predicted y values & true y values applying variety thresholds \"\"\"\n",
    "\n",
    "true = oof.copy()\n",
    "for k in range(18):\n",
    "    tmp = train_y.loc[train_y.q == k+1].loc[all_index]\n",
    "    true[k] = tmp.correct.values\n",
    "\n",
    "scores = []; thresholds = []\n",
    "best_score = 0; best_thr = 0\n",
    "\n",
    "for threshold in np.arange(0.4,0.81,0.01):\n",
    "    print(f'{threshold:.02f}, ',end='')\n",
    "    preds = (oof.values.reshape((-1))>threshold).astype('int')\n",
    "    m = f1_score(true.values.reshape((-1)), preds, average='macro')   \n",
    "    scores.append(m)\n",
    "    thresholds.append(threshold)\n",
    "    if m>best_score:\n",
    "        best_score = m\n",
    "        best_thr = threshold"
   ]
  },
  {
   "cell_type": "code",
   "execution_count": 31,
   "id": "322a11eb",
   "metadata": {
    "colab": {
     "base_uri": "https://localhost:8080/",
     "height": 1000
    },
    "id": "322a11eb",
    "outputId": "1fadacd2-d46d-4481-c0a2-2aa211fd7d27"
   },
   "outputs": [
    {
     "data": {
      "image/png": "[encoded data removed]",
      "text/plain": [
       "<Figure size 1440x360 with 1 Axes>"
      ]
     },
     "metadata": {
      "needs_background": "light"
     },
     "output_type": "display_data"
    }
   ],
   "source": [
    "plt.figure(figsize=(20,5))\n",
    "plt.plot(thresholds,scores,'-o',color='blue')\n",
    "plt.scatter([best_thr], [best_score], color='blue', s=300, alpha=1)\n",
    "plt.xlabel('Threshold',size=14)\n",
    "plt.ylabel('Validation F1 Score',size=14)\n",
    "plt.title(f'Threshold vs. F1_Score with Best F1_Score = {best_score:.3f} at Best Threshold = {best_thr:.3}',size=18)\n",
    "plt.show()"
   ]
  },
  {
   "cell_type": "code",
   "execution_count": 32,
   "id": "8c903329",
   "metadata": {
    "id": "8c903329"
   },
   "outputs": [],
   "source": [
    "# Save fitted Models by Questions\n",
    "fit_all = {\n",
    "            \"feature_true\" : feature_true,\n",
    "            \"best_model\" : best_models, \n",
    "            \"best_thr\" : best_thr, \n",
    "            \"fi_dfs\" : fi_dfs}\n",
    "\n",
    "with open('./data/(AF)LGBM_v0.1.pickle', 'wb') as f:\n",
    "    pickle.dump(fit_all, f)"
   ]
  }
 ],
 "metadata": {
  "accelerator": "GPU",
  "colab": {
   "gpuType": "T4",
   "machine_shape": "hm",
   "provenance": []
  },
  "gpuClass": "standard",
  "kernelspec": {
   "display_name": "Python 3 (ipykernel)",
   "language": "python",
   "name": "python3"
  },
  "language_info": {
   "codemirror_mode": {
    "name": "ipython",
    "version": 3
   },
   "file_extension": ".py",
   "mimetype": "text/x-python",
   "name": "python",
   "nbconvert_exporter": "python",
   "pygments_lexer": "ipython3",
   "version": "3.9.12"
  }
 },
 "nbformat": 4,
 "nbformat_minor": 5
}
